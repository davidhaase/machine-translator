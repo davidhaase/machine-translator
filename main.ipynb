{
 "cells": [
  {
   "cell_type": "code",
   "execution_count": 1,
   "metadata": {},
   "outputs": [],
   "source": [
    "import os\n",
    "import pickle\n",
    "\n",
    "import pandas as pd\n",
    "import numpy as np\n",
    "\n",
    "import spacy\n",
    "import nltk\n",
    "\n",
    "from utils import Logger"
   ]
  },
  {
   "cell_type": "code",
   "execution_count": 2,
   "metadata": {},
   "outputs": [],
   "source": [
    "pickle_path = '/Users/davidhaase/Documents/Flatiron/Projects/machine-translator/pickles/jobs.pkl'\n",
    "log_path = '/Users/davidhaase/Documents/Flatiron/Projects/machine-translator/logs/'"
   ]
  },
  {
   "cell_type": "code",
   "execution_count": 3,
   "metadata": {},
   "outputs": [
    {
     "data": {
      "text/plain": [
       "'/Users/davidhaase/Documents/Flatiron/Projects/machine-translator/logs/log_001.log'"
      ]
     },
     "execution_count": 3,
     "metadata": {},
     "output_type": "execute_result"
    }
   ],
   "source": [
    "log = Logger(log_path)\n",
    "log.file_name"
   ]
  },
  {
   "cell_type": "code",
   "execution_count": null,
   "metadata": {},
   "outputs": [],
   "source": [
    "class DB():\n",
    "    def __init__(self):\n",
    "        self.type = ''\n",
    "    \n",
    "    \n",
    "class Pickler(DB):\n",
    "    def __init__(self, path):\n",
    "        self.path = path\n",
    "        self.type = 'Pickle'\n",
    "        try:\n",
    "            if os.path.isfile(path) is False:\n",
    "                open(path, 'wb+')\n",
    "        except Exception as e:\n",
    "            print(e)\n",
    "    \n",
    "class Job():\n",
    "    def __init__(self, from_text, to_text):       \n",
    "        self.from_text = from_text\n",
    "        self.to_text = to_text\n",
    "    \n",
    "class Translator():\n",
    "    def __init__(self, from_text, to_text):\n",
    "        pass\n",
    "    \n",
    "class Log():\n",
    "    def __init__(self, path):\n",
    "        pass\n",
    "    \n",
    "        \n",
    "    \n",
    "    \n",
    "    "
   ]
  },
  {
   "cell_type": "code",
   "execution_count": null,
   "metadata": {},
   "outputs": [],
   "source": [
    "db = Pickler(pickle_path)\n",
    "db.path"
   ]
  },
  {
   "cell_type": "code",
   "execution_count": null,
   "metadata": {},
   "outputs": [],
   "source": []
  },
  {
   "cell_type": "code",
   "execution_count": null,
   "metadata": {},
   "outputs": [],
   "source": []
  }
 ],
 "metadata": {
  "kernelspec": {
   "display_name": "Python 3",
   "language": "python",
   "name": "python3"
  },
  "language_info": {
   "codemirror_mode": {
    "name": "ipython",
    "version": 3
   },
   "file_extension": ".py",
   "mimetype": "text/x-python",
   "name": "python",
   "nbconvert_exporter": "python",
   "pygments_lexer": "ipython3",
   "version": "3.7.3"
  }
 },
 "nbformat": 4,
 "nbformat_minor": 2
}
